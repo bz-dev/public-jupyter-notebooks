{
 "cells": [
  {
   "cell_type": "code",
   "execution_count": 3,
   "outputs": [],
   "source": [
    "import pandas\n",
    "\n",
    "df = pandas.read_csv(\"../../data/kaggle_housing_prices/train.csv\")"
   ],
   "metadata": {
    "collapsed": false,
    "pycharm": {
     "name": "#%%\n"
    }
   }
  },
  {
   "cell_type": "markdown",
   "source": [
    "Use `DataFrame.agg`"
   ],
   "metadata": {
    "collapsed": false
   }
  },
  {
   "cell_type": "code",
   "execution_count": 4,
   "outputs": [
    {
     "data": {
      "text/plain": "           SalePrice        LotArea\nmin      34900.00000    1300.000000\nmax     755000.00000  215245.000000\nmedian  163000.00000    9478.500000\nmean    180921.19589   10516.828082",
      "text/html": "<div>\n<style scoped>\n    .dataframe tbody tr th:only-of-type {\n        vertical-align: middle;\n    }\n\n    .dataframe tbody tr th {\n        vertical-align: top;\n    }\n\n    .dataframe thead th {\n        text-align: right;\n    }\n</style>\n<table border=\"1\" class=\"dataframe\">\n  <thead>\n    <tr style=\"text-align: right;\">\n      <th></th>\n      <th>SalePrice</th>\n      <th>LotArea</th>\n    </tr>\n  </thead>\n  <tbody>\n    <tr>\n      <th>min</th>\n      <td>34900.00000</td>\n      <td>1300.000000</td>\n    </tr>\n    <tr>\n      <th>max</th>\n      <td>755000.00000</td>\n      <td>215245.000000</td>\n    </tr>\n    <tr>\n      <th>median</th>\n      <td>163000.00000</td>\n      <td>9478.500000</td>\n    </tr>\n    <tr>\n      <th>mean</th>\n      <td>180921.19589</td>\n      <td>10516.828082</td>\n    </tr>\n  </tbody>\n</table>\n</div>"
     },
     "execution_count": 4,
     "metadata": {},
     "output_type": "execute_result"
    }
   ],
   "source": [
    "df.agg(\n",
    "\t{\n",
    "\t\t\"SalePrice\": [\"min\", \"max\", \"median\", \"mean\"],\n",
    "\t\t\"LotArea\": [\"min\", \"max\", \"median\", \"mean\"],\n",
    "\t}\n",
    ")"
   ],
   "metadata": {
    "collapsed": false,
    "pycharm": {
     "name": "#%%\n"
    }
   }
  }
 ],
 "metadata": {
  "kernelspec": {
   "display_name": "Python 3",
   "language": "python",
   "name": "python3"
  },
  "language_info": {
   "codemirror_mode": {
    "name": "ipython",
    "version": 2
   },
   "file_extension": ".py",
   "mimetype": "text/x-python",
   "name": "python",
   "nbconvert_exporter": "python",
   "pygments_lexer": "ipython2",
   "version": "2.7.6"
  }
 },
 "nbformat": 4,
 "nbformat_minor": 0
}